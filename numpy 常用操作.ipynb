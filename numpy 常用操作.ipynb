{
 "cells": [
  {
   "cell_type": "code",
   "execution_count": 1,
   "metadata": {},
   "outputs": [
    {
     "name": "stdout",
     "output_type": "stream",
     "text": [
      "[0 1 2]\n",
      "[1.         2.71828183 7.3890561 ]\n",
      "[0.         1.         1.41421356]\n"
     ]
    }
   ],
   "source": [
    "import numpy as np\n",
    "#计算幂和开根号\n",
    "B =np.arange(3)\n",
    "print(B)\n",
    "print(np.exp(B))\n",
    "print(np.sqrt(B))"
   ]
  },
  {
   "cell_type": "code",
   "execution_count": 2,
   "metadata": {},
   "outputs": [
    {
     "name": "stdout",
     "output_type": "stream",
     "text": [
      "[[5. 6. 8. 5.]\n",
      " [9. 4. 4. 2.]\n",
      " [6. 8. 2. 2.]]\n",
      "[5. 6. 8. 5. 9. 4. 4. 2. 6. 8. 2. 2.]\n",
      "[[5. 6.]\n",
      " [8. 5.]\n",
      " [9. 4.]\n",
      " [4. 2.]\n",
      " [6. 8.]\n",
      " [2. 2.]]\n",
      "[[5. 8. 9. 4. 6. 2.]\n",
      " [6. 5. 4. 2. 8. 2.]]\n"
     ]
    }
   ],
   "source": [
    "a = np.floor(10*np.random.random((3,4)))\n",
    "print(a)\n",
    "print(a.ravel()) #矩阵换成向量\n",
    "a.shape = (6,2)\n",
    "print(a)\n",
    "print(a.T) #变化行列\n",
    "#a.reshape(3,-1) 自动计算列"
   ]
  },
  {
   "cell_type": "code",
   "execution_count": 6,
   "metadata": {},
   "outputs": [
    {
     "name": "stdout",
     "output_type": "stream",
     "text": [
      "[[2. 6.]\n",
      " [8. 5.]]\n",
      "[[7. 4.]\n",
      " [4. 0.]]\n",
      "[[2. 6. 7. 4.]\n",
      " [8. 5. 4. 0.]]\n"
     ]
    }
   ],
   "source": [
    "#矩阵拼接\n",
    "a = np.floor(10*np.random.random((2,2)))\n",
    "b = np.floor(10*np.random.random((2,2)))\n",
    "print(a)\n",
    "print(b)\n",
    "print(np.hstack((a,b)))\n",
    "#横向拼接"
   ]
  },
  {
   "cell_type": "code",
   "execution_count": 7,
   "metadata": {},
   "outputs": [
    {
     "name": "stdout",
     "output_type": "stream",
     "text": [
      "[[5. 9.]\n",
      " [0. 4.]]\n",
      "[[3. 1.]\n",
      " [7. 7.]]\n",
      "[[5. 9.]\n",
      " [0. 4.]\n",
      " [3. 1.]\n",
      " [7. 7.]]\n"
     ]
    }
   ],
   "source": [
    "a = np.floor(10*np.random.random((2,2)))\n",
    "b = np.floor(10*np.random.random((2,2)))\n",
    "print(a)\n",
    "print(b)\n",
    "print(np.vstack((a,b)))\n",
    "#纵向拼接"
   ]
  },
  {
   "cell_type": "code",
   "execution_count": 10,
   "metadata": {},
   "outputs": [
    {
     "name": "stdout",
     "output_type": "stream",
     "text": [
      "[[0. 4. 4. 9. 2. 7. 9. 6. 4. 8. 2. 4.]\n",
      " [5. 8. 4. 0. 4. 2. 7. 7. 2. 5. 2. 9.]]\n",
      "[array([[0., 4., 4., 9.],\n",
      "       [5., 8., 4., 0.]]), array([[2., 7., 9., 6.],\n",
      "       [4., 2., 7., 7.]]), array([[4., 8., 2., 4.],\n",
      "       [2., 5., 2., 9.]])]\n",
      "[array([[0., 4., 4.],\n",
      "       [5., 8., 4.]]), array([[9.],\n",
      "       [0.]]), array([[2., 7., 9., 6., 4., 8., 2., 4.],\n",
      "       [4., 2., 7., 7., 2., 5., 2., 9.]])]\n",
      "[[0. 6.]\n",
      " [7. 8.]\n",
      " [7. 2.]\n",
      " [0. 7.]\n",
      " [3. 9.]\n",
      " [3. 4.]\n",
      " [9. 3.]\n",
      " [0. 5.]\n",
      " [9. 3.]\n",
      " [2. 2.]\n",
      " [2. 0.]\n",
      " [9. 6.]]\n"
     ]
    },
    {
     "data": {
      "text/plain": [
       "[array([[0., 6.],\n",
       "        [7., 8.],\n",
       "        [7., 2.],\n",
       "        [0., 7.]]), array([[3., 9.],\n",
       "        [3., 4.],\n",
       "        [9., 3.],\n",
       "        [0., 5.]]), array([[9., 3.],\n",
       "        [2., 2.],\n",
       "        [2., 0.],\n",
       "        [9., 6.]])]"
      ]
     },
     "execution_count": 10,
     "metadata": {},
     "output_type": "execute_result"
    }
   ],
   "source": [
    "#矩阵切分\n",
    "a = np.floor(10*np.random.random((2,12)))\n",
    "print(a)\n",
    "print(np.hsplit(a,3))\n",
    "print(np.hsplit(a,(3,4)))\n",
    "a = np.floor(10*np.random.random((12,2)))\n",
    "print(a)\n",
    "np.vsplit(a,3)"
   ]
  },
  {
   "cell_type": "code",
   "execution_count": null,
   "metadata": {},
   "outputs": [],
   "source": []
  }
 ],
 "metadata": {
  "kernelspec": {
   "display_name": "Python 3",
   "language": "python",
   "name": "python3"
  },
  "language_info": {
   "codemirror_mode": {
    "name": "ipython",
    "version": 3
   },
   "file_extension": ".py",
   "mimetype": "text/x-python",
   "name": "python",
   "nbconvert_exporter": "python",
   "pygments_lexer": "ipython3",
   "version": "3.7.0"
  }
 },
 "nbformat": 4,
 "nbformat_minor": 2
}
